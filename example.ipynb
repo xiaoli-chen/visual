{
 "cells": [
  {
   "cell_type": "code",
   "execution_count": 1,
   "metadata": {},
   "outputs": [
    {
     "ename": "SyntaxError",
     "evalue": "can't assign to function call (<ipython-input-1-4921866dfc93>, line 2)",
     "output_type": "error",
     "traceback": [
      "\u001b[0;36m  File \u001b[0;32m\"<ipython-input-1-4921866dfc93>\"\u001b[0;36m, line \u001b[0;32m2\u001b[0m\n\u001b[0;31m    df['Data'] = pd.to_datetime(df['Reported Date']) = pd.to_timedelta(7,unit='d')\u001b[0m\n\u001b[0m                ^\u001b[0m\n\u001b[0;31mSyntaxError\u001b[0m\u001b[0;31m:\u001b[0m can't assign to function call\n"
     ]
    }
   ],
   "source": [
    "# seattle dataset\n",
    "\n",
    "df['Data'] = pd.to_datetime(df['Reported Date']) = pd.to_timedelta(7,unit='d')\n",
    "fig,ax = plt.subplots(figsize=(14,8))\n",
    "df.groupby([pd.Grouper(key='Date',freq='W-Mon'),'Precinct'])['Template Id'].\\\n",
    "nunique().reset_index(level=1).last('5M').reset_index().\\\n",
    "pivot(index='Date',columns='Precinct',values='Template ID').plot(ax=ax)\n",
    "plt.title('Events by week by precinct')\n",
    "plt.show()"
   ]
  }
 ],
 "metadata": {
  "kernelspec": {
   "display_name": "Python 3",
   "language": "python",
   "name": "python3"
  },
  "language_info": {
   "codemirror_mode": {
    "name": "ipython",
    "version": 3
   },
   "file_extension": ".py",
   "mimetype": "text/x-python",
   "name": "python",
   "nbconvert_exporter": "python",
   "pygments_lexer": "ipython3",
   "version": "3.6.5"
  }
 },
 "nbformat": 4,
 "nbformat_minor": 2
}
